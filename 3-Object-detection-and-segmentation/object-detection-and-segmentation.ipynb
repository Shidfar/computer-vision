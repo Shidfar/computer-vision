{
 "cells": [
  {
   "cell_type": "markdown",
   "metadata": {},
   "source": [
    "## Object detection and segmentation"
   ]
  },
  {
   "cell_type": "markdown",
   "metadata": {},
   "source": [
    "This is a complementary material for the following labs contained in this folder. Here, we are going to quickly recapitulate the concept of image classification which we have explored in the previous labs, and talk about object detection and segmentation."
   ]
  },
  {
   "cell_type": "markdown",
   "metadata": {},
   "source": [
    "### Image classification\n",
    "\n",
    "Classifying images is exactly what it sounds like. Take this image for example:\n",
    "\n",
    "![cute-dog](https://user-images.githubusercontent.com/20716798/80702180-f3741580-8ae0-11ea-9e27-55107be4a21c.jpg)\n",
    "\n",
    "You instantly recognized it is a dog. Given an input image, you assigned it to the class you thought it belonged to. A dog, in this case. That is what image classification is.\n",
    "\n",
    "The issue here is that is a very simple example of it. In the example above, we described the whole image as being a dog, but there are other elements composing that image. For example, the carpet where that cute dog is sleeping, the floor underneath the carpet, the wall in the background, and the list goes on. We could use something called a multi-label classifier to address this issue, and in the end, our image would be classified as something like [\"dog\", \"carpet\", \"wall\"]\n",
    "\n",
    "![multi-label classification](https://user-images.githubusercontent.com/20716798/80703621-65e5f500-8ae3-11ea-811b-5d46b853ea2f.png)\n",
    "\n",
    "While that classification is indeed accurate, there is still a lot of information missing here. For example, we have no clue about where these objects are located in the image. and this is where **object detection** comes in."
   ]
  },
  {
   "cell_type": "markdown",
   "metadata": {},
   "source": [
    "### Object detection and segmentation\n",
    "\n",
    "When there are multiple objects inside an image, object detection can be used to identify the location of such objects in an image, along with its class. It works by drawing a bounding box, and the predicted class around the object. Here we also fall into the issue of not having enough information. While we now have the class and location of multiple objects inside an image, we don't know much about the shape of an object. And that's where **image segmentation** can help us.\n",
    "\n",
    "\n",
    "Image segmentation goes a step further by segmenting an image into areas of interest and drawing a pixel-wise mask around our desired objects. This gives us a lot more information, because now we have a meaning for each pixel in our image, instead of just relying upon an area. Now we can know what an object is, where it is located, and what shape it has. \n",
    "\n",
    "![object-detection-segmentation](https://user-images.githubusercontent.com/20716798/80705476-cb87b080-8ae6-11ea-9908-5e5f47eb6fd5.png)\n",
    "\n",
    "This makes our images much more meaningful and easier to analyze."
   ]
  },
  {
   "cell_type": "code",
   "execution_count": null,
   "metadata": {},
   "outputs": [],
   "source": []
  }
 ],
 "metadata": {
  "kernelspec": {
   "display_name": "Python 3",
   "language": "python",
   "name": "python3"
  },
  "language_info": {
   "codemirror_mode": {
    "name": "ipython",
    "version": 3
   },
   "file_extension": ".py",
   "mimetype": "text/x-python",
   "name": "python",
   "nbconvert_exporter": "python",
   "pygments_lexer": "ipython3",
   "version": "3.7.3"
  }
 },
 "nbformat": 4,
 "nbformat_minor": 4
}
