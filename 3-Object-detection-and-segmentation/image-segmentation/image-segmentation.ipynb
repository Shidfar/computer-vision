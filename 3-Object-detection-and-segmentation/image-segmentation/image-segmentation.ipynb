{
 "cells": [
  {
   "cell_type": "markdown",
   "metadata": {},
   "source": [
    "## Image segmentation"
   ]
  },
  {
   "cell_type": "markdown",
   "metadata": {},
   "source": [
    "In this lab, we are going to use the [divamgupta/image-segmentation-keras](https://github.com/divamgupta/image-segmentation-keras) library to perform image segmentation.\n",
    "\n",
    "First, let's load the library and the vgg_unet model"
   ]
  },
  {
   "cell_type": "code",
   "execution_count": null,
   "metadata": {},
   "outputs": [],
   "source": [
    "from keras_segmentation.models.unet import vgg_unet\n",
    "\n",
    "model = vgg_unet(n_classes=51 ,  input_height=416, input_width=608  )"
   ]
  },
  {
   "cell_type": "markdown",
   "metadata": {},
   "source": [
    "Next, let's train the model. The dataset we will use to train this model is already conveniently downloaded and prepared for you. "
   ]
  },
  {
   "cell_type": "code",
   "execution_count": null,
   "metadata": {},
   "outputs": [
    {
     "name": "stderr",
     "output_type": "stream",
     "text": [
      "Using TensorFlow backend.\n"
     ]
    },
    {
     "name": "stdout",
     "output_type": "stream",
     "text": [
      "Error in loading augmentation, can't import imgaug.Please make sure it is installed.\n",
      "Downloading data from https://github.com/fchollet/deep-learning-models/releases/download/v0.1/vgg16_weights_tf_dim_ordering_tf_kernels_notop.h5\n",
      "58892288/58889256 [==============================] - 2s 0us/step\n"
     ]
    },
    {
     "name": "stderr",
     "output_type": "stream",
     "text": [
      "  4%|▍         | 15/367 [00:00<00:02, 147.58it/s]"
     ]
    },
    {
     "name": "stdout",
     "output_type": "stream",
     "text": [
      "Verifying training dataset\n"
     ]
    },
    {
     "name": "stderr",
     "output_type": "stream",
     "text": [
      "100%|██████████| 367/367 [00:02<00:00, 162.86it/s]\n"
     ]
    },
    {
     "name": "stdout",
     "output_type": "stream",
     "text": [
      "Dataset verified! \n",
      "Epoch 1/5\n",
      "512/512 [==============================] - 2554s 5s/step - loss: 1.1470 - accuracy: 0.6765\n",
      "saved  /tmp/vgg_unet_1.0\n",
      "Epoch 2/5\n",
      "512/512 [==============================] - 2544s 5s/step - loss: 0.7456 - accuracy: 0.7647\n",
      "saved  /tmp/vgg_unet_1.1\n",
      "Epoch 3/5\n",
      "512/512 [==============================] - 2531s 5s/step - loss: 0.5676 - accuracy: 0.8237\n",
      "saved  /tmp/vgg_unet_1.2\n",
      "Epoch 4/5\n",
      "276/512 [===============>..............] - ETA: 19:22 - loss: 0.4836 - accuracy: 0.8501"
     ]
    }
   ],
   "source": [
    "model.train(\n",
    "    train_images =  \"/datasets/image-segmentation/dataset1/images_prepped_train/\",\n",
    "    train_annotations = \"/datasets/image-segmentation/dataset1/annotations_prepped_train/\",\n",
    "    checkpoints_path = \"/tmp/vgg_unet_1\" , epochs=5\n",
    ")\n",
    "\n",
    "out = model.predict_segmentation(\n",
    "    inp=\"/datasets/image-segmentation/images_prepped_test/0016E5_07965.png\",\n",
    "    out_fname=\"/tmp/out.png\"\n",
    ")"
   ]
  },
  {
   "cell_type": "markdown",
   "metadata": {},
   "source": [
    "Finally, let's evaluate our model and print the segmented image :)"
   ]
  },
  {
   "cell_type": "code",
   "execution_count": null,
   "metadata": {},
   "outputs": [],
   "source": [
    "import matplotlib.pyplot as plt\n",
    "plt.imshow(out)\n",
    "\n",
    "# evaluating the model \n",
    "print(model.evaluate_segmentation( inp_images_dir=\"/datasets/image-segmentation/images_prepped_test/\"  , annotations_dir=\"/datasets/image-segmentation/annotations_prepped_test/\" ) )"
   ]
  }
 ],
 "metadata": {
  "kernelspec": {
   "display_name": "Python 3",
   "language": "python",
   "name": "python3"
  },
  "language_info": {
   "codemirror_mode": {
    "name": "ipython",
    "version": 3
   },
   "file_extension": ".py",
   "mimetype": "text/x-python",
   "name": "python",
   "nbconvert_exporter": "python",
   "pygments_lexer": "ipython3",
   "version": "3.7.3"
  }
 },
 "nbformat": 4,
 "nbformat_minor": 4
}
